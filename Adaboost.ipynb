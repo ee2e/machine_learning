{
 "cells": [
  {
   "cell_type": "markdown",
   "metadata": {},
   "source": [
    "## Boosting\n",
    "- 일부러 성능이 안 좋은 모델들을 사용한다\n",
    "- 더 먼저 만든 모델들의 성능이, 뒤에 있는 모델이 사용할 데이터 셋을 바꾼다\n",
    "- 모델들의 예측을 종합할 때, 성능이 좋은 모델의 예측을 더 반영한다\n",
    "\n",
    "핵심 : 성능이 안 좋은 약한 학습자(weak learner)들을 합쳐서 성능을 극대화한다!"
   ]
  },
  {
   "cell_type": "markdown",
   "metadata": {},
   "source": [
    "### 에다 부스트 (Adaboost)\n",
    "- 성능이 좋지 않은 결정 스텀프를 많이 만든다 (weak learners)\n",
    "- 각 스텀프는 전에 왔던 스텀프들이 틀린 데이터들을 더 중요하게 맞춘다\n",
    "- 예측을 종합할 때, 성능이 좋은 스텀프의 의견 비중을 더 높게 반영한다"
   ]
  }
 ],
 "metadata": {
  "kernelspec": {
   "display_name": "Python 3",
   "language": "python",
   "name": "python3"
  },
  "language_info": {
   "codemirror_mode": {
    "name": "ipython",
    "version": 3
   },
   "file_extension": ".py",
   "mimetype": "text/x-python",
   "name": "python",
   "nbconvert_exporter": "python",
   "pygments_lexer": "ipython3",
   "version": "3.7.6"
  }
 },
 "nbformat": 4,
 "nbformat_minor": 4
}
