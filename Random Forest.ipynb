{
 "cells": [
  {
   "cell_type": "markdown",
   "metadata": {},
   "source": [
    "## 앙상블(ensemble)\n",
    "- 하나의 모델을 쓰는 대신, 수많은 모델들을 사용해 종합적인 판단을 하는 것"
   ]
  },
  {
   "cell_type": "markdown",
   "metadata": {},
   "source": [
    "### 랜덤 포레스트\n",
    "- 트리 모델들을 임의로 많이 만들어서 다수결 투표로 결과를 종합하는 알고리즘\n",
    "\n",
    "#### 랜덤 포레스트 1 : Bagging\n",
    "- bootstrapping : 갖고 있는 데이터 셋으로 다른 데이터 셋을 만들어내는 방법\n",
    "    - 모든 모델을 정확히 똑같은 데이터 셋으로 학습시키면 결과 다양성 떨어질 수 있음\n",
    "    - 이 문제를 예방하기 위해, 각 모델을 임의로 만들어준 Bootstrap 데이터 셋으로 학습시켜준다\n",
    "- Bagging : bootstrap 데이터 셋을 만들어내고 모델들의 결정을 종합(aggregate)해서 예측 하는 앙상블 기법을 bootstrap aggregating, 줄여서 bagging이라고 부름\n",
    "\n",
    "#### 랜덤 포레스트 2 : 임의로 결정 트리 만들기\n",
    "- bootstrapping을 사용해서 임의로 데이터 셋을 만든다\n",
    "- 결정 트리를 만들 때 속성을 임의로 고르면서 만든다\n",
    "- 위의 2개를 여러 번 반복"
   ]
  }
 ],
 "metadata": {
  "kernelspec": {
   "display_name": "Python 3",
   "language": "python",
   "name": "python3"
  },
  "language_info": {
   "codemirror_mode": {
    "name": "ipython",
    "version": 3
   },
   "file_extension": ".py",
   "mimetype": "text/x-python",
   "name": "python",
   "nbconvert_exporter": "python",
   "pygments_lexer": "ipython3",
   "version": "3.7.6"
  }
 },
 "nbformat": 4,
 "nbformat_minor": 4
}
